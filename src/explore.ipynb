{
    "cells": [
        {
            "cell_type": "markdown",
            "metadata": {},
            "source": [
                "Import and set the api keys"
            ]
        },
        {
            "cell_type": "code",
            "execution_count": 51,
            "metadata": {},
            "outputs": [],
            "source": [
                "import os\n",
                "import pandas as pd\n",
                "from dotenv import load_dotenv\n",
                "\n",
                "import spotipy\n",
                "from spotipy.oauth2 import SpotifyClientCredentials\n",
                "\n",
                "import matplotlib.pyplot as plt\n",
                "\n",
                "# load the .env file variables\n",
                "load_dotenv()\n",
                "\n",
                "client_id = os.environ.get(\"CLIENT_ID\")\n",
                "client_secret = os.environ.get(\"SECRET_ID\")\n"
            ]
        },
        {
            "cell_type": "markdown",
            "metadata": {},
            "source": [
                "Set the artist and save the data from the api"
            ]
        },
        {
            "cell_type": "code",
            "execution_count": 60,
            "metadata": {},
            "outputs": [],
            "source": [
                "artist_uri = 'spotify:artist:3K49BAizpfWdDws7kKsdwu'\n",
                "\n",
                "spotify = spotipy.Spotify(client_credentials_manager=SpotifyClientCredentials(client_id=client_id,client_secret=client_secret))\n",
                "results = spotify.artist_top_tracks(artist_uri)\n"
            ]
        },
        {
            "cell_type": "code",
            "execution_count": 61,
            "metadata": {},
            "outputs": [],
            "source": [
                "def milisegundos_a_sexagesimal(milisegundos):\n",
                "    # Convertir milisegundos a segundos\n",
                "    segundos = milisegundos / 1000\n",
                "\n",
                "    # Calcular minutos y segundos\n",
                "    minutos = segundos // 60\n",
                "    segundos %= 60\n",
                "\n",
                "    # Calcular horas y minutos\n",
                "    horas = minutos // 60\n",
                "    minutos %= 60\n",
                "\n",
                "    # Formatear en formato sexagesimal\n",
                "    tiempo_sexagesimal = \"{:02}:{:02}:{:02}\".format(int(horas), int(minutos), int(segundos))\n",
                "\n",
                "    return tiempo_sexagesimal"
            ]
        },
        {
            "cell_type": "code",
            "execution_count": 68,
            "metadata": {},
            "outputs": [
                {
                    "data": {
                        "text/html": [
                            "<div>\n",
                            "<style scoped>\n",
                            "    .dataframe tbody tr th:only-of-type {\n",
                            "        vertical-align: middle;\n",
                            "    }\n",
                            "\n",
                            "    .dataframe tbody tr th {\n",
                            "        vertical-align: top;\n",
                            "    }\n",
                            "\n",
                            "    .dataframe thead th {\n",
                            "        text-align: right;\n",
                            "    }\n",
                            "</style>\n",
                            "<table border=\"1\" class=\"dataframe\">\n",
                            "  <thead>\n",
                            "    <tr style=\"text-align: right;\">\n",
                            "      <th></th>\n",
                            "      <th>name</th>\n",
                            "      <th>duration_ms</th>\n",
                            "      <th>popularity</th>\n",
                            "      <th>duration_minutes</th>\n",
                            "    </tr>\n",
                            "  </thead>\n",
                            "  <tbody>\n",
                            "    <tr>\n",
                            "      <th>0</th>\n",
                            "      <td>SR20DET</td>\n",
                            "      <td>278250</td>\n",
                            "      <td>60</td>\n",
                            "      <td>00:04:38</td>\n",
                            "    </tr>\n",
                            "    <tr>\n",
                            "      <th>7</th>\n",
                            "      <td>//obsession//</td>\n",
                            "      <td>228678</td>\n",
                            "      <td>42</td>\n",
                            "      <td>00:03:48</td>\n",
                            "    </tr>\n",
                            "    <tr>\n",
                            "      <th>4</th>\n",
                            "      <td>Satellite from days of old, lead me to your ac...</td>\n",
                            "      <td>216000</td>\n",
                            "      <td>44</td>\n",
                            "      <td>00:03:36</td>\n",
                            "    </tr>\n",
                            "    <tr>\n",
                            "      <th>2</th>\n",
                            "      <td>GORE-TEX COVERS MY SOUL</td>\n",
                            "      <td>191000</td>\n",
                            "      <td>48</td>\n",
                            "      <td>00:03:11</td>\n",
                            "    </tr>\n",
                            "    <tr>\n",
                            "      <th>5</th>\n",
                            "      <td>ominous</td>\n",
                            "      <td>157935</td>\n",
                            "      <td>44</td>\n",
                            "      <td>00:02:37</td>\n",
                            "    </tr>\n",
                            "    <tr>\n",
                            "      <th>8</th>\n",
                            "      <td>60FPS</td>\n",
                            "      <td>144500</td>\n",
                            "      <td>41</td>\n",
                            "      <td>00:02:24</td>\n",
                            "    </tr>\n",
                            "    <tr>\n",
                            "      <th>6</th>\n",
                            "      <td>Dreamstation</td>\n",
                            "      <td>139058</td>\n",
                            "      <td>38</td>\n",
                            "      <td>00:02:19</td>\n",
                            "    </tr>\n",
                            "    <tr>\n",
                            "      <th>3</th>\n",
                            "      <td>haunted.</td>\n",
                            "      <td>137142</td>\n",
                            "      <td>47</td>\n",
                            "      <td>00:02:17</td>\n",
                            "    </tr>\n",
                            "    <tr>\n",
                            "      <th>9</th>\n",
                            "      <td>Thunderbolt - Blksmiith Remix</td>\n",
                            "      <td>135160</td>\n",
                            "      <td>41</td>\n",
                            "      <td>00:02:15</td>\n",
                            "    </tr>\n",
                            "    <tr>\n",
                            "      <th>1</th>\n",
                            "      <td>F R A G M E N T</td>\n",
                            "      <td>60000</td>\n",
                            "      <td>54</td>\n",
                            "      <td>00:01:00</td>\n",
                            "    </tr>\n",
                            "  </tbody>\n",
                            "</table>\n",
                            "</div>"
                        ],
                        "text/plain": [
                            "                                                name  duration_ms  popularity  \\\n",
                            "0                                            SR20DET       278250          60   \n",
                            "7                                      //obsession//       228678          42   \n",
                            "4  Satellite from days of old, lead me to your ac...       216000          44   \n",
                            "2                            GORE-TEX COVERS MY SOUL       191000          48   \n",
                            "5                                            ominous       157935          44   \n",
                            "8                                              60FPS       144500          41   \n",
                            "6                                       Dreamstation       139058          38   \n",
                            "3                                           haunted.       137142          47   \n",
                            "9                      Thunderbolt - Blksmiith Remix       135160          41   \n",
                            "1                                    F R A G M E N T        60000          54   \n",
                            "\n",
                            "  duration_minutes  \n",
                            "0         00:04:38  \n",
                            "7         00:03:48  \n",
                            "4         00:03:36  \n",
                            "2         00:03:11  \n",
                            "5         00:02:37  \n",
                            "8         00:02:24  \n",
                            "6         00:02:19  \n",
                            "3         00:02:17  \n",
                            "9         00:02:15  \n",
                            "1         00:01:00  "
                        ]
                    },
                    "execution_count": 68,
                    "metadata": {},
                    "output_type": "execute_result"
                }
            ],
            "source": [
                "df = pd.DataFrame(results['tracks'])\n",
                "\n",
                "df['duration_minutes'] = df['duration_ms'].apply(milisegundos_a_sexagesimal)\n",
                "\n",
                "df[['name','duration_ms','popularity','duration_minutes']].sort_values('duration_ms',ascending=False)"
            ]
        },
        {
            "cell_type": "markdown",
            "metadata": {},
            "source": [
                "plot an scatter to see relationship"
            ]
        },
        {
            "cell_type": "code",
            "execution_count": 69,
            "metadata": {},
            "outputs": [
                {
                    "data": {
                        "image/png": "[encoded data removed]",
                        "text/plain": [
                            "<Figure size 640x480 with 1 Axes>"
                        ]
                    },
                    "metadata": {},
                    "output_type": "display_data"
                }
            ],
            "source": [
                "# Crear el scatter plot\n",
                "plt.scatter(df['duration_ms'], df['popularity'])\n",
                "\n",
                "# Agregar etiquetas y título\n",
                "plt.xlabel('Duration ms')\n",
                "plt.ylabel('Popularity')\n",
                "plt.title('Scatter Plot')\n",
                "\n",
                "# Mostrar el scatter plot\n",
                "plt.show()"
            ]
        },
        {
            "cell_type": "markdown",
            "metadata": {},
            "source": [
                "different artists make completely different charts, 10 songs are not enough to determine if duration has any relevance to popularity, by common sense we can say that it has NO relevance"
            ]
        }
    ],
    "metadata": {
        "kernelspec": {
            "display_name": "Python 3.8.13 64-bit ('3.8.13')",
            "language": "python",
            "name": "python3"
        },
        "language_info": {
            "codemirror_mode": {
                "name": "ipython",
                "version": 3
            },
            "file_extension": ".py",
            "mimetype": "text/x-python",
            "name": "python",
            "nbconvert_exporter": "python",
            "pygments_lexer": "ipython3",
            "version": "3.11.4"
        },
        "orig_nbformat": 4,
        "vscode": {
            "interpreter": {
                "hash": "110cc1dee26208153f2972f08a2ad52b6a56238dc66d48e87fb757ef2996db56"
            }
        }
    },
    "nbformat": 4,
    "nbformat_minor": 2
}
